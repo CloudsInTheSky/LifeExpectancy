{
 "cells": [
  {
   "cell_type": "code",
   "execution_count": 1,
   "id": "bee43798",
   "metadata": {
    "_cell_guid": "b1076dfc-b9ad-4769-8c92-a6c4dae69d19",
    "_uuid": "8f2839f25d086af736a60e9eeb907d3b93b6e0e5",
    "execution": {
     "iopub.execute_input": "2024-11-19T16:53:42.602326Z",
     "iopub.status.busy": "2024-11-19T16:53:42.601941Z",
     "iopub.status.idle": "2024-11-19T16:53:43.366209Z",
     "shell.execute_reply": "2024-11-19T16:53:43.364964Z"
    },
    "papermill": {
     "duration": 0.770223,
     "end_time": "2024-11-19T16:53:43.368706",
     "exception": false,
     "start_time": "2024-11-19T16:53:42.598483",
     "status": "completed"
    },
    "tags": []
   },
   "outputs": [
    {
     "name": "stdout",
     "output_type": "stream",
     "text": [
      "/kaggle/input/life-expectancy-at-birth-across-the-globe/Life Expectancy at Birth.csv\n",
      "/kaggle/input/life-expectancy-and-socio-economic-world-bank/life expectancy.csv\n",
      "/kaggle/input/life-expectancy-around-the-world/survival-to-age-65-of-cohort.csv\n",
      "/kaggle/input/life-expectancy-around-the-world/death-rate-by-cause-who-mdb.csv\n",
      "/kaggle/input/life-expectancy-around-the-world/life-expectancy-versus-gini-lifespan-inequality.csv\n",
      "/kaggle/input/life-expectancy-around-the-world/life-expectancy-at-different-ages.csv\n",
      "/kaggle/input/life-expectancy-around-the-world/period-versus-cohort-life-expectancy.csv\n",
      "/kaggle/input/life-expectancy-around-the-world/gender-gap-in-life-expectancy-by-age-group.csv\n",
      "/kaggle/input/life-expectancy-around-the-world/annual-death-rate-by-age-group.csv\n",
      "/kaggle/input/life-expectancy-around-the-world/life-expectancy-un-vs-gdp-per-capita-wb.csv\n",
      "/kaggle/input/life-expectancy-around-the-world/gini-coefficient-of-lifespan-inequality-in-females.csv\n",
      "/kaggle/input/life-expectancy-around-the-world/probability-that-a-male-will-outlive-a-female.csv\n",
      "/kaggle/input/life-expectancy-around-the-world/gender-ratio-in-life-expectancy-at-birth.csv\n",
      "/kaggle/input/life-expectancy-around-the-world/remaining-life-expectancy-at-different-ages.csv\n",
      "/kaggle/input/life-expectancy-around-the-world/female-to-male-life-expectancy-ratio.csv\n",
      "/kaggle/input/life-expectancy-around-the-world/median-age.csv\n",
      "/kaggle/input/life-expectancy-around-the-world/probability-of-dying-that-year-among-males-of-a-given-age.csv\n",
      "/kaggle/input/life-expectancy-around-the-world/life-expectancy-of-women-vs-life-expectancy-of-men.csv\n",
      "/kaggle/input/life-expectancy-around-the-world/survival-ages-across-the-population.csv\n",
      "/kaggle/input/life-expectancy-around-the-world/life-expectancy-vs-gdp-per-capita.csv\n",
      "/kaggle/input/life-expectancy-around-the-world/mens-life-expectancy-at-birth.csv\n",
      "/kaggle/input/life-expectancy-around-the-world/life-expectancy-marimekko.csv\n",
      "/kaggle/input/life-expectancy-around-the-world/probability-of-dying-that-year-among-females-of-a-given-age.csv\n",
      "/kaggle/input/life-expectancy-around-the-world/maximum-life-expectancy-sex-female.csv\n",
      "/kaggle/input/life-expectancy-around-the-world/annual-number-of-deaths-by-world-region.csv\n",
      "/kaggle/input/life-expectancy-around-the-world/life-expectancy.csv\n",
      "/kaggle/input/life-expectancy-around-the-world/difference-in-male-and-female-life-expectancy.csv\n",
      "/kaggle/input/life-expectancy-around-the-world/remaining-life-expectancy-at-different-ages-females.csv\n",
      "/kaggle/input/life-expectancy-around-the-world/womens-life-expectancy-at-birth.csv\n",
      "/kaggle/input/life-expectancy-around-the-world/life-expectancy-at-birth-including-the-un-projections.csv\n",
      "/kaggle/input/life-expectancy-around-the-world/difference-in-life-expectancy-between-females-and-males-vs-child-mortality.csv\n",
      "/kaggle/input/life-expectancy-around-the-world/annual-death-rates-in-different-age-groups.csv\n",
      "/kaggle/input/life-expectancy-around-the-world/life-expectancy-hmd-unwpp.csv\n",
      "/kaggle/input/life-expectancy-around-the-world/modal-age-at-death-in-adults.csv\n",
      "/kaggle/input/life-expectancy-around-the-world/gini-coefficient-of-lifespan-inequality-by-sex.csv\n",
      "/kaggle/input/life-expectancy-around-the-world/life-expectancy-vs-healthcare-expenditure.csv\n",
      "/kaggle/input/life-expectancy-around-the-world/difference-in-female-and-male-life-expectancy-at-birth.csv\n",
      "/kaggle/input/life-expectancy-around-the-world/annual-deaths-by-age.csv\n",
      "/kaggle/input/life-expectancy-around-the-world/annual-death-rates-in-different-age-groups-by-sex.csv\n",
      "/kaggle/input/life-expectancy-around-the-world/life-expectation-at-birth-by-sex.csv\n",
      "/kaggle/input/life-expectancy-around-the-world/remaining-life-expectancy-at-different-ages-males.csv\n",
      "/kaggle/input/life-expectancy-around-the-world/probability-that-a-newborn-will-die-in-the-first-year-of-life-by-sex.csv\n",
      "/kaggle/input/life-expectancy-around-the-world/future-life-expectancy-projections.csv\n"
     ]
    }
   ],
   "source": [
    "# This Python 3 environment comes with many helpful analytics libraries installed\n",
    "# It is defined by the kaggle/python Docker image: https://github.com/kaggle/docker-python\n",
    "# For example, here's several helpful packages to load\n",
    "\n",
    "import numpy as np # linear algebra\n",
    "import pandas as pd # data processing, CSV file I/O (e.g. pd.read_csv)\n",
    "\n",
    "# Input data files are available in the read-only \"../input/\" directory\n",
    "# For example, running this (by clicking run or pressing Shift+Enter) will list all files under the input directory\n",
    "\n",
    "import os\n",
    "for dirname, _, filenames in os.walk('/kaggle/input'):\n",
    "    for filename in filenames:\n",
    "        print(os.path.join(dirname, filename))\n",
    "\n",
    "# You can write up to 20GB to the current directory (/kaggle/working/) that gets preserved as output when you create a version using \"Save & Run All\" \n",
    "# You can also write temporary files to /kaggle/temp/, but they won't be saved outside of the current session"
   ]
  },
  {
   "cell_type": "code",
   "execution_count": null,
   "id": "697e4f62",
   "metadata": {
    "papermill": {
     "duration": 0.001438,
     "end_time": "2024-11-19T16:53:43.372280",
     "exception": false,
     "start_time": "2024-11-19T16:53:43.370842",
     "status": "completed"
    },
    "tags": []
   },
   "outputs": [],
   "source": []
  }
 ],
 "metadata": {
  "kaggle": {
   "accelerator": "none",
   "dataSources": [
    {
     "datasetId": 3701634,
     "sourceId": 6417687,
     "sourceType": "datasetVersion"
    },
    {
     "datasetId": 3652643,
     "sourceId": 8692509,
     "sourceType": "datasetVersion"
    },
    {
     "datasetId": 5983640,
     "sourceId": 9769478,
     "sourceType": "datasetVersion"
    }
   ],
   "dockerImageVersionId": 30786,
   "isGpuEnabled": false,
   "isInternetEnabled": true,
   "language": "python",
   "sourceType": "notebook"
  },
  "kernelspec": {
   "display_name": "Python 3",
   "language": "python",
   "name": "python3"
  },
  "language_info": {
   "codemirror_mode": {
    "name": "ipython",
    "version": 3
   },
   "file_extension": ".py",
   "mimetype": "text/x-python",
   "name": "python",
   "nbconvert_exporter": "python",
   "pygments_lexer": "ipython3",
   "version": "3.10.14"
  },
  "papermill": {
   "default_parameters": {},
   "duration": 3.704929,
   "end_time": "2024-11-19T16:53:43.794091",
   "environment_variables": {},
   "exception": null,
   "input_path": "__notebook__.ipynb",
   "output_path": "__notebook__.ipynb",
   "parameters": {},
   "start_time": "2024-11-19T16:53:40.089162",
   "version": "2.6.0"
  }
 },
 "nbformat": 4,
 "nbformat_minor": 5
}
